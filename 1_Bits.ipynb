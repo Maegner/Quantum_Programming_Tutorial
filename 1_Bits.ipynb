{
 "cells": [
  {
   "cell_type": "markdown",
   "metadata": {},
   "source": [
    "# Hello Quantum - Qiskit Edition\n",
    "## Chapter 1: Beginning with bits"
   ]
  },
  {
   "cell_type": "markdown",
   "metadata": {},
   "source": [
    "This is a Jupyter notebook, in which you will run some puzzles and learn about quantum computing. Don't worry if you've never used a Jupyter notebook before. It just means you'll see lots of grey boxes with code in, like the one below. These are known as cells."
   ]
  },
  {
   "cell_type": "code",
   "execution_count": null,
   "metadata": {},
   "outputs": [],
   "source": [
    "print(\"Hello! I'm a code cell\")"
   ]
  },
  {
   "cell_type": "markdown",
   "metadata": {},
   "source": [
    "You'll need to run the cells to use the tutorial. To do this, click on the cell and press **Shift-Enter**. Get started by doing this for the cell below (it will take a second or two to run)."
   ]
  },
  {
   "cell_type": "code",
   "execution_count": null,
   "metadata": {},
   "outputs": [],
   "source": [
    "print('Set up started...')\n",
    "%matplotlib notebook\n",
    "import engine\n",
    "print('Set up complete!')"
   ]
  },
  {
   "cell_type": "markdown",
   "metadata": {},
   "source": [
    "The rest of the cells in this notebook will create puzzles for you to solve. So just go and run the cells for the puzzles you want to do."
   ]
  },
  {
   "cell_type": "markdown",
   "metadata": {},
   "source": [
    "# Level 1\n",
    "\n",
    "### Intro\n",
    "* Normal computers are made of bits, and quantum computers are made of qubits.\n",
    "* Qubits are basically an upgraded version of bits, so let's make sure we understand basic bit-based programming first.\n",
    "* The defining feature of a bit is that it has two possible output values.\n",
    "* These are often called `1` and `0`, though we'll also be thinking of them as _on_ and _off_.\n",
    "* We use bits represent and process information, but for this we need lots of them,\n",
    "\n",
    "\n",
    "* To help you understand how to use bits, we'll give you one to play with.\n",
    "* The simplest thing you can do to a bit (other than leave it alone) is tghe `NOT` operation.\n",
    "* Try it out and see what happens.\n",
    "\n",
    "### Exercise\n",
    "*  Use the `NOT` command 3 times on bit 0."
   ]
  },
  {
   "cell_type": "code",
   "execution_count": null,
   "metadata": {
    "scrolled": false
   },
   "outputs": [],
   "source": [
    "initialize = []\n",
    "success_condition = {}\n",
    "allowed_gates = {'0': {'NOT': 3}, '1': {}, 'both': {}}\n",
    "vi = [[1], False, False]\n",
    "qubit_names = {'0':'the only bit', '1':None}\n",
    "engine.run_game(initialize, success_condition, allowed_gates, vi, qubit_names)"
   ]
  },
  {
   "cell_type": "markdown",
   "metadata": {},
   "source": [
    "### Outro\n",
    "* Here our bit was depicted by a circle that was either on (white) or off (black).\n",
    "* The effect of the `NOT` command was to turn it on and off.\n",
    "* This flips out bit between `0` and `1`."
   ]
  },
  {
   "cell_type": "markdown",
   "metadata": {},
   "source": [
    "# Level 2\n",
    "\n",
    "### Intro\n",
    "* Now let's do the same thing to a different bit.\n",
    "* This will look the same as before. But because it is a different bit, it'll be in a different place.\n",
    "\n",
    "### Exercise\n",
    "*  Turn the other bit on."
   ]
  },
  {
   "cell_type": "code",
   "execution_count": null,
   "metadata": {},
   "outputs": [],
   "source": [
    "initialize = []\n",
    "success_condition = {}\n",
    "allowed_gates = {'0': {}, '1': {'NOT': 0}, 'both': {}}\n",
    "vi = [[], False, False]\n",
    "qubit_names = {'0':'the bit on the left', '1':'the bit on the right'}\n",
    "engine.run_game(initialize, success_condition, allowed_gates, vi, qubit_names)"
   ]
  },
  {
   "cell_type": "markdown",
   "metadata": {},
   "source": [
    "### Outro\n",
    "* You've now mastered the NOT command: the most basic building block of computing."
   ]
  },
  {
   "cell_type": "markdown",
   "metadata": {},
   "source": [
    "# Level 3\n",
    "\n",
    "### Intro\n",
    "* To really process information stored in bits, computers need more than just `NOT`s.\n",
    "* We need commands that let us manipulate some bits in a way that depends on other bits.\n",
    "* The simplest example is the controlled-`NOT`, or `CNOT`.\n",
    "* For this you need to choose one bit to be the _target_, and the other to be the _control_.\n",
    "* The `CNOT` then does a `NOT` on the target bit, but only if the control bit is on.\n",
    "\n",
    "### Exercise\n",
    "* Use the `CNOT` to turn on bit 1.\n",
    "* **Note**: The `CNOT` acts on both bits, bit you still need to choose which will be the target bit."
   ]
  },
  {
   "cell_type": "code",
   "execution_count": null,
   "metadata": {},
   "outputs": [],
   "source": [
    "initialize = [['x', '0']]\n",
    "success_condition = {'IZ': -1.0}\n",
    "allowed_gates = {'0': {'CNOT': 0}, '1': {'CNOT': 0}, 'both': {}}\n",
    "vi = [[], False, False]\n",
    "qubit_names = {'0':'the bit on the left', '1':'the bit on the right'}\n",
    "engine.run_game(initialize, success_condition, allowed_gates, vi, qubit_names)"
   ]
  },
  {
   "cell_type": "markdown",
   "metadata": {},
   "source": [
    "# Level 4\n",
    "\n",
    "### Intro\n",
    "* Now do the same again, but also turn off the bit on the left.\n",
    "\n",
    "### Exercise\n",
    "*  Use some CNOTs to turn bit 0 off and bit 1 on."
   ]
  },
  {
   "cell_type": "code",
   "execution_count": null,
   "metadata": {},
   "outputs": [],
   "source": [
    "initialize = [['x', '0']]\n",
    "success_condition = {'ZI': 1.0, 'IZ': -1.0}\n",
    "allowed_gates = {'0': {'CNOT': 0}, '1': {'CNOT': 0}, 'both': {}}\n",
    "vi = [[], False, False]\n",
    "qubit_names = {'0':'the bit on the left', '1':'the bit on the right'}\n",
    "engine.run_game(initialize, success_condition, allowed_gates, vi, qubit_names)"
   ]
  },
  {
   "cell_type": "markdown",
   "metadata": {},
   "source": [
    "### Outro\n",
    "* Well done!\n",
    "* These kind of manipulations are what all computing compiles down to\n",
    "* With more bits and a controlled-controlled-`NOT`, you can do everything from Tetris to self-driving cars."
   ]
  },
  {
   "cell_type": "markdown",
   "metadata": {},
   "source": [
    "# Level 5\n",
    "\n",
    "### Intro\n",
    "* Qubits have some similarities to random bit values, so let's take a few exercises to look at them.\n",
    "* For a bit that will give us a `0` or `1` with equal probability, we'll use a grey circle.\n",
    "\n",
    "### Exercise\n",
    "*  Make the bit on the right random using a CNOT."
   ]
  },
  {
   "cell_type": "code",
   "execution_count": null,
   "metadata": {},
   "outputs": [],
   "source": [
    "initialize = [['h', '0']]\n",
    "success_condition = {'IZ': 0.0}\n",
    "allowed_gates = {'0': {'CNOT': 0}, '1': {'CNOT': 0}, 'both': {}}\n",
    "vi = [[], False, False]\n",
    "qubit_names = {'0':'the bit on the left', '1':'the bit on the right'}\n",
    "engine.run_game(initialize, success_condition, allowed_gates, vi, qubit_names)"
   ]
  },
  {
   "cell_type": "markdown",
   "metadata": {},
   "source": [
    "### Outro\n",
    "* Well done!\n",
    "* If the left bit was off, the right bit stayed off. If the left bit was on, the right bit got switched on too.\n",
    "* So the random value of the left bit was copied over to the right by the `CNOT`.\n",
    "* In this case, despite the randomness, both bits will always output the same result.\n",
    "* But we could also create cases where they are independently random, or always have different results.\n",
    "* How can we keep track of this information?"
   ]
  },
  {
   "cell_type": "markdown",
   "metadata": {},
   "source": [
    "# Level 6\n",
    "\n",
    "### Intro\n",
    "* To keep track of correlations, we'll add another circle.\n",
    "* This doesn't represent a new bit. It simply tells us whether our two bits will agree or not.\n",
    "* It will be off when they agree, on when they don't, and grey when they aren't correlated\n",
    "\n",
    "### Exercise\n",
    "*  Make the two bits always disagree"
   ]
  },
  {
   "cell_type": "code",
   "execution_count": null,
   "metadata": {
    "scrolled": false
   },
   "outputs": [],
   "source": [
    "initialize = [['h', '0']]\n",
    "success_condition = {'ZZ': -1.0}\n",
    "allowed_gates = {'0': {'NOT': 0, 'CNOT': 0}, '1': {'NOT': 0, 'CNOT': 0}, 'both': {}}\n",
    "vi = [[], False, True]\n",
    "qubit_names = {'0':'the bit on the left', '1':'the bit on the right'}\n",
    "engine.run_game(initialize, success_condition, allowed_gates, vi, qubit_names)"
   ]
  },
  {
   "cell_type": "markdown",
   "metadata": {},
   "source": [
    "# Level 7\n",
    "\n",
    "### Intro\n",
    "* Now you know pretty much need all you need to know about bits.\n",
    "* Let's have one more exercise before we move on.\n",
    "\n",
    "### Exercise\n",
    "*  Turn on bit 1"
   ]
  },
  {
   "cell_type": "code",
   "execution_count": null,
   "metadata": {},
   "outputs": [],
   "source": [
    "initialize = [['h', '1']]\n",
    "success_condition = {'IZ': -1.0}\n",
    "allowed_gates = {'0': {'NOT': 0, 'CNOT': 0}, '1': {'NOT': 0, 'CNOT': 0}, 'both': {}}\n",
    "vi = [[], False, True]\n",
    "qubit_names = {'0':'the bit on the left', '1':'the bit on the right'}\n",
    "engine.run_game(initialize, success_condition, allowed_gates, vi, qubit_names)"
   ]
  },
  {
   "cell_type": "markdown",
   "metadata": {},
   "source": [
    "### Outro\n",
    "* That's is the end of this set of exercises.\n",
    "* Time to move on to qubits!"
   ]
  },
  {
   "cell_type": "code",
   "execution_count": null,
   "metadata": {},
   "outputs": [],
   "source": []
  }
 ],
 "metadata": {
  "kernelspec": {
   "display_name": "Python 3",
   "language": "python",
   "name": "python3"
  },
  "language_info": {
   "codemirror_mode": {
    "name": "ipython",
    "version": 3
   },
   "file_extension": ".py",
   "mimetype": "text/x-python",
   "name": "python",
   "nbconvert_exporter": "python",
   "pygments_lexer": "ipython3",
   "version": "3.7.0"
  }
 },
 "nbformat": 4,
 "nbformat_minor": 2
}
