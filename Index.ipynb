{
 "cells": [
  {
   "cell_type": "markdown",
   "metadata": {},
   "source": [
    "# Hello Quantum - Qiskit Edition\n",
    "\n",
    "This folder contains an upgraded version of the [command line Hello Quantum tutorial](https://medium.com/qiskit/visualizing-bits-and-qubits-9af287047b28). It has been made for Jupyter notebooks.\n",
    "\n",
    "* [Chapter 1: Bits](1_Bits.ipynb)\n",
    "* [Chapter 2: Single Qubit Gates](2_Single-Qubit-Gates.ipynb)\n",
    "* [Chapter 3: Two Qubit Gates](3_Two-Qubit-Gates.ipynb)\n",
    "* [Chapter 4: Beyond Clifford](4_Beyond-Clifford.ipynb)\n",
    "* [Chapter 5: Bell Test](5_Bell-Test.ipynb)\n",
    "\n",
    "Comments required. The more critical, the better!"
   ]
  },
  {
   "cell_type": "code",
   "execution_count": null,
   "metadata": {},
   "outputs": [],
   "source": []
  }
 ],
 "metadata": {
  "kernelspec": {
   "display_name": "Python 3",
   "language": "python",
   "name": "python3"
  },
  "language_info": {
   "codemirror_mode": {
    "name": "ipython",
    "version": 3
   },
   "file_extension": ".py",
   "mimetype": "text/x-python",
   "name": "python",
   "nbconvert_exporter": "python",
   "pygments_lexer": "ipython3",
   "version": "3.7.0"
  }
 },
 "nbformat": 4,
 "nbformat_minor": 2
}
